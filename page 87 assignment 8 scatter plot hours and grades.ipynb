{
 "cells": [
  {
   "cell_type": "code",
   "execution_count": 28,
   "metadata": {},
   "outputs": [
    {
     "data": {
      "text/html": [
       "<div>\n",
       "<style scoped>\n",
       "    .dataframe tbody tr th:only-of-type {\n",
       "        vertical-align: middle;\n",
       "    }\n",
       "\n",
       "    .dataframe tbody tr th {\n",
       "        vertical-align: top;\n",
       "    }\n",
       "\n",
       "    .dataframe thead th {\n",
       "        text-align: right;\n",
       "    }\n",
       "</style>\n",
       "<table border=\"1\" class=\"dataframe\">\n",
       "  <thead>\n",
       "    <tr style=\"text-align: right;\">\n",
       "      <th></th>\n",
       "      <th>fname</th>\n",
       "      <th>lname</th>\n",
       "      <th>gender</th>\n",
       "      <th>age</th>\n",
       "      <th>exercise</th>\n",
       "      <th>hours</th>\n",
       "      <th>grade</th>\n",
       "      <th>address</th>\n",
       "    </tr>\n",
       "  </thead>\n",
       "  <tbody>\n",
       "    <tr>\n",
       "      <th>1995</th>\n",
       "      <td>Cody</td>\n",
       "      <td>Shepherd</td>\n",
       "      <td>male</td>\n",
       "      <td>19</td>\n",
       "      <td>1</td>\n",
       "      <td>8</td>\n",
       "      <td>80.1</td>\n",
       "      <td>982 West Street, Alexandria, VA 22304</td>\n",
       "    </tr>\n",
       "    <tr>\n",
       "      <th>1996</th>\n",
       "      <td>Geraldine</td>\n",
       "      <td>Peterson</td>\n",
       "      <td>female</td>\n",
       "      <td>16</td>\n",
       "      <td>4</td>\n",
       "      <td>18</td>\n",
       "      <td>100.0</td>\n",
       "      <td>78 Morris Street, East Northport, NY 11731</td>\n",
       "    </tr>\n",
       "    <tr>\n",
       "      <th>1997</th>\n",
       "      <td>Mercedes</td>\n",
       "      <td>Leon</td>\n",
       "      <td>female</td>\n",
       "      <td>18</td>\n",
       "      <td>3</td>\n",
       "      <td>14</td>\n",
       "      <td>84.9</td>\n",
       "      <td>30 Glenridge Rd., Bountiful, UT 84010</td>\n",
       "    </tr>\n",
       "    <tr>\n",
       "      <th>1998</th>\n",
       "      <td>Lucius</td>\n",
       "      <td>Rowland</td>\n",
       "      <td>male</td>\n",
       "      <td>16</td>\n",
       "      <td>1</td>\n",
       "      <td>7</td>\n",
       "      <td>69.1</td>\n",
       "      <td>342 West Meadowbrook Lane, Helena, MT 59601</td>\n",
       "    </tr>\n",
       "    <tr>\n",
       "      <th>1999</th>\n",
       "      <td>Linus</td>\n",
       "      <td>Morris</td>\n",
       "      <td>male</td>\n",
       "      <td>19</td>\n",
       "      <td>4</td>\n",
       "      <td>10</td>\n",
       "      <td>79.6</td>\n",
       "      <td>81 Homestead Drive, Voorhees, NJ 08043</td>\n",
       "    </tr>\n",
       "  </tbody>\n",
       "</table>\n",
       "</div>"
      ],
      "text/plain": [
       "          fname     lname  gender  age  exercise  hours  grade  \\\n",
       "1995       Cody  Shepherd    male   19         1      8   80.1   \n",
       "1996  Geraldine  Peterson  female   16         4     18  100.0   \n",
       "1997   Mercedes      Leon  female   18         3     14   84.9   \n",
       "1998     Lucius   Rowland    male   16         1      7   69.1   \n",
       "1999      Linus    Morris    male   19         4     10   79.6   \n",
       "\n",
       "                                          address  \n",
       "1995        982 West Street, Alexandria, VA 22304  \n",
       "1996   78 Morris Street, East Northport, NY 11731  \n",
       "1997        30 Glenridge Rd., Bountiful, UT 84010  \n",
       "1998  342 West Meadowbrook Lane, Helena, MT 59601  \n",
       "1999       81 Homestead Drive, Voorhees, NJ 08043  "
      ]
     },
     "execution_count": 28,
     "metadata": {},
     "output_type": "execute_result"
    }
   ],
   "source": [
    "import pandas as pd\n",
    "import numpy as np\n",
    "import matplotlib.pyplot as plt\n",
    "Location = \"gradedata.csv\"\n",
    "df = pd.read_csv(Location)\n",
    "df.tail()"
   ]
  },
  {
   "cell_type": "code",
   "execution_count": 34,
   "metadata": {},
   "outputs": [
    {
     "data": {
      "text/plain": [
       "<matplotlib.collections.PathCollection at 0x23644e9ad68>"
      ]
     },
     "execution_count": 34,
     "metadata": {},
     "output_type": "execute_result"
    },
    {
     "data": {
      "image/png": "[encoded data removed]",
      "text/plain": [
       "<Figure size 432x288 with 1 Axes>"
      ]
     },
     "metadata": {
      "needs_background": "light"
     },
     "output_type": "display_data"
    }
   ],
   "source": [
    "%matplotlib inline\n",
    "dataframe = pd.DataFrame({'grade':\n",
    "np.random.normal(size=200)})\n",
    "plt.scatter(dataframe.index, dataframe['grade'])\n",
    "\n",
    "dataframe = pd.DataFrame({'grade':\n",
    "np.random.normal(size=200)})\n",
    "plt.scatter(dataframe.index, dataframe['grade'])"
   ]
  },
  {
   "cell_type": "code",
   "execution_count": null,
   "metadata": {},
   "outputs": [],
   "source": [
    "#No pattern is visible"
   ]
  }
 ],
 "metadata": {
  "kernelspec": {
   "display_name": "Python 3",
   "language": "python",
   "name": "python3"
  },
  "language_info": {
   "codemirror_mode": {
    "name": "ipython",
    "version": 3
   },
   "file_extension": ".py",
   "mimetype": "text/x-python",
   "name": "python",
   "nbconvert_exporter": "python",
   "pygments_lexer": "ipython3",
   "version": "3.7.3"
  }
 },
 "nbformat": 4,
 "nbformat_minor": 2
}
